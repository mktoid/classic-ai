{
 "cells": [
  {
   "cell_type": "code",
   "execution_count": 36,
   "metadata": {},
   "outputs": [],
   "source": [
    "import re\n",
    "\n",
    "def prep_text(text):\n",
    "    text = text.replace('_',' ').replace('#',' ').replace('=',' ').replace('<title>Википедия',' ')\n",
    "    text = re.sub('<link>.*?</link>', ' ', text)  \n",
    "    reg = re.compile('[^а-яА-ЯёЁ\\- \\n]')\n",
    "    return reg.sub('', text).strip().lower()"
   ]
  },
  {
   "cell_type": "code",
   "execution_count": 37,
   "metadata": {},
   "outputs": [
    {
     "name": "stdout",
     "output_type": "stream",
     "text": [
      "CPU times: user 7min 58s, sys: 2.91 s, total: 8min 1s\n",
      "Wall time: 8min 1s\n"
     ]
    }
   ],
   "source": [
    "%%time\n",
    "\n",
    "with open('datasets/classic/ruwiki-latest-abstract.xml') as inp_file, open('datasets/classic/ruwiki-latest-abstract-rulower.txt', 'w') as out_file:\n",
    "    for line in inp_file:\n",
    "        cleaned_line = prep_text(line)\n",
    "        if len(cleaned_line) > 1:\n",
    "            out_file.write(prep_text(line) + '\\n')"
   ]
  },
  {
   "cell_type": "code",
   "execution_count": null,
   "metadata": {},
   "outputs": [],
   "source": []
  }
 ],
 "metadata": {
  "kernelspec": {
   "display_name": "Python 3",
   "language": "python",
   "name": "python3"
  },
  "language_info": {
   "codemirror_mode": {
    "name": "ipython",
    "version": 3
   },
   "file_extension": ".py",
   "mimetype": "text/x-python",
   "name": "python",
   "nbconvert_exporter": "python",
   "pygments_lexer": "ipython3",
   "version": "3.6.4"
  }
 },
 "nbformat": 4,
 "nbformat_minor": 2
}
